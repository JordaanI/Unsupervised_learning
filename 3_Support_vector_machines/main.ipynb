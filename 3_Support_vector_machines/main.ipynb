{
 "cells": [
  {
   "cell_type": "markdown",
   "metadata": {},
   "source": [
    "# Support Vector Machine\n",
    "\n",
    "Classifies data points based on a hyperplane of some form, these can be linear, polynomial ect. This plane attempts to maximise its distance from each classification. The forms are also called kernals."
   ]
  },
  {
   "cell_type": "code",
   "execution_count": 1,
   "metadata": {},
   "outputs": [],
   "source": [
    "import seaborn as sns\n",
    "import pandas as pd\n",
    "import numpy as np\n",
    "import matplotlib.pyplot as plt"
   ]
  },
  {
   "cell_type": "code",
   "execution_count": 2,
   "metadata": {},
   "outputs": [],
   "source": [
    "from sklearn.model_selection import train_test_split\n",
    "from sklearn.preprocessing import StandardScaler\n",
    "from sklearn.metrics import accuracy_score\n",
    "\n",
    "#splitting the data and normalizing it.\n",
    "def split_and_scale(data,labels,size=0.2):\n",
    "    data_train, data_test, labels_train, labels_test = train_test_split(data, labels, test_size=size, random_state=0)\n",
    "    #test train split with 0.8 test and 0.2 train\n",
    "\n",
    "    #Normalize the data.\n",
    "    scaler = StandardScaler()\n",
    "    data_train = scaler.fit_transform(data_train)   #Here scaler is fitted to the data and the dataset is transformed\n",
    "    data_test = scaler.transform(data_test)         #Scaled using the previous fit so to be consistant.\n",
    "    return data_train, data_test, labels_train, labels_test"
   ]
  },
  {
   "cell_type": "code",
   "execution_count": 3,
   "metadata": {},
   "outputs": [],
   "source": [
    "iris = sns.load_dataset('iris')\n",
    "CI = iris.copy()     \n",
    "\n",
    "data = CI.drop('species', axis=1)\n",
    "labels = CI['species']\n",
    "\n",
    "data_train, data_test, labels_train, labels_test = split_and_scale(data,labels)"
   ]
  },
  {
   "cell_type": "code",
   "execution_count": 4,
   "metadata": {},
   "outputs": [
    {
     "name": "stdout",
     "output_type": "stream",
     "text": [
      "Classification accuracy of 1.0\n"
     ]
    }
   ],
   "source": [
    "from sklearn.svm import SVC\n",
    "\n",
    "svc = SVC()\n",
    "svc.fit(data_train,labels_train)\n",
    "labels_predict = svc.predict(data_test)\n",
    "print(f'Classification accuracy of {accuracy_score(labels_test, labels_predict)}')\n",
    "\n",
    "#High prediction score can be guessed from the distribution of the feratures, see exploratory analysis\n",
    "#Done with default parameters, kernal = rbf ect."
   ]
  },
  {
   "cell_type": "code",
   "execution_count": 11,
   "metadata": {},
   "outputs": [
    {
     "data": {
      "image/png": "[encoded data removed]",
      "text/plain": [
       "<Figure size 432x288 with 4 Axes>"
      ]
     },
     "metadata": {
      "needs_background": "light"
     },
     "output_type": "display_data"
    }
   ],
   "source": [
    "#The kernals are the form that the margin will take, they are:\n",
    "\n",
    "fig, axes = plt.subplots(4)\n",
    "pics = [f'{pic}.png' for pic in ['linear','poly','rbf','sigmoid']]\n",
    "\n",
    "for ax, pic in zip(axes, pics):\n",
    "    pass"
   ]
  },
  {
   "cell_type": "code",
   "execution_count": 6,
   "metadata": {},
   "outputs": [
    {
     "name": "stdout",
     "output_type": "stream",
     "text": [
      "Classification accuracy of 1.0 for linear kernel\n",
      "Classification accuracy of 0.9 for poly kernel\n",
      "Classification accuracy of 0.8666666666666667 for sigmoid kernel\n"
     ]
    }
   ],
   "source": [
    "#running on different kernals\n",
    "\n",
    "kernels = ['linear', 'poly', 'sigmoid']\n",
    "\n",
    "for kernel in kernels:\n",
    "    svc = SVC(kernel=kernel)\n",
    "    svc.fit(data_train,labels_train)\n",
    "    labels_predict = svc.predict(data_test)\n",
    "    print(f'Classification accuracy of {accuracy_score(labels_test, labels_predict)} for {kernel} kernel')"
   ]
  }
 ],
 "metadata": {
  "kernelspec": {
   "display_name": "Python 3.9.7 64-bit",
   "language": "python",
   "name": "python3"
  },
  "language_info": {
   "codemirror_mode": {
    "name": "ipython",
    "version": 3
   },
   "file_extension": ".py",
   "mimetype": "text/x-python",
   "name": "python",
   "nbconvert_exporter": "python",
   "pygments_lexer": "ipython3",
   "version": "3.9.7"
  },
  "orig_nbformat": 4,
  "vscode": {
   "interpreter": {
    "hash": "e17eab0df9e3307548a5c6f41d73e01b4dc6a359441bcee24f0d97b016c3af62"
   }
  }
 },
 "nbformat": 4,
 "nbformat_minor": 2
}
